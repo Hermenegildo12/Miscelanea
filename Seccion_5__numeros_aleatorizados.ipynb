{
 "cells": [
  {
   "cell_type": "code",
   "execution_count": 2,
   "metadata": {},
   "outputs": [],
   "source": [
    "import pandas as pd\n",
    "import numpy as np\n",
    "import matplotlib as plt"
   ]
  },
  {
   "cell_type": "markdown",
   "metadata": {},
   "source": [
    "# Números aleatorizados"
   ]
  },
  {
   "cell_type": "markdown",
   "metadata": {},
   "source": [
    "Usando la librería numpy, podemos usar random directamente o poner una “semilla” de aleatorización para que siempre escoja aleatoriamente los mismos números en todas las personas que lo prueben. De esta forma pueden repetir los resultados.\n",
    "\n",
    "- Lo ideal es poner esta semilla al inicio del código para que nos valga para todo."
   ]
  },
  {
   "cell_type": "code",
   "execution_count": 3,
   "metadata": {},
   "outputs": [
    {
     "name": "stdout",
     "output_type": "stream",
     "text": [
      "0.8823493117539459\n",
      "0.10432773786047767\n",
      "0.9070093335163405\n",
      "0.3063988986063515\n",
      "0.446408872427422\n"
     ]
    }
   ],
   "source": [
    "np.random.seed(2018)\n",
    "for i in range(5):\n",
    "    print(np.random.random())"
   ]
  },
  {
   "cell_type": "markdown",
   "metadata": {},
   "source": [
    "Muchas veces para el análisis de datos se necesita que los números aleatorios sigan una distribución concreta, destacando:\n",
    "- Distribución uniforme\n",
    "- Distribución Normal"
   ]
  },
  {
   "cell_type": "markdown",
   "metadata": {},
   "source": [
    "### Distribución uniforme\n",
    "\n",
    "Suele definirse en base a sus extremos (punto de inicio y de final). Donde la probabilidad de elegir un número entre esos dos extremos es la misma, NO HAY ningún punto con mayor probabilidad. Todos son x_probables. Por lo que:\n",
    "\n",
    "- Media (mu): Es el punto medio entre ambos límites (a + b)/2\n",
    "- Varianza: $(b - a)^{2}$/12\n",
    "- Desviación estandar: √varianza"
   ]
  },
  {
   "cell_type": "markdown",
   "metadata": {},
   "source": [
    "![Title](Seccion_5_numeros_aleatorizados/Uniforme.png)\n"
   ]
  },
  {
   "cell_type": "markdown",
   "metadata": {},
   "source": [
    "En Python exista ya generadores de números aleatorios que siguen dicha distribución.\n",
    "Usamos la libreria Numpy y su función random.uniform que recibe como parámetros:\n",
    "- Limites inferior \"a\" \n",
    "- Limite superior \"b\"\n",
    "- Número de muestras \"n\". A mayor muestra, obviamente los valores van a ser cada vez más parecidos en probabilidad."
   ]
  },
  {
   "cell_type": "code",
   "execution_count": 4,
   "metadata": {},
   "outputs": [],
   "source": [
    "a = 1\n",
    "b = 100\n",
    "n = 1000000\n",
    "data = np.random.uniform(a, b, n) "
   ]
  },
  {
   "cell_type": "code",
   "execution_count": 5,
   "metadata": {},
   "outputs": [
    {
     "data": {
      "text/plain": [
       "(array([100068.,  99951., 100755., 100318., 100143.,  99761.,  99876.,\n",
       "         99624.,  99765.,  99739.]),\n",
       " array([ 1.00016486, 10.90014808, 20.80013131, 30.70011454, 40.60009777,\n",
       "        50.50008099, 60.40006422, 70.30004745, 80.20003068, 90.10001391,\n",
       "        99.99999713]),\n",
       " <a list of 10 Patch objects>)"
      ]
     },
     "execution_count": 5,
     "metadata": {},
     "output_type": "execute_result"
    },
    {
     "data": {
      "image/png": "[encoded data removed]",
      "text/plain": [
       "<Figure size 432x288 with 1 Axes>"
      ]
     },
     "metadata": {
      "needs_background": "light"
     },
     "output_type": "display_data"
    }
   ],
   "source": [
    "# Para comprobar que todos los puntos generados tienen la misma probabilidad, se dibuja un gráfico\n",
    "%matplotlib inline\n",
    "plt.pyplot.hist(data)"
   ]
  },
  {
   "cell_type": "markdown",
   "metadata": {},
   "source": [
    "### Distribución Normal Estandar\n",
    "\n",
    "Es la distribución más frecuente. La mayoria de los fenómenos que se analizan tienden a seguir dicha distribución. La ley de los grandes números, y es que, a la larga cuando hacemos más números el fenómeno tienden a comportarse como una campana de Gauss. Centradas en torno a un valor y con una dispersión que a medida que nos alejamos de la media tendremos a no tener datos que analizar.\n",
    "\n",
    "Esta distribución \"Normal estandar\" esta definida por;\n",
    "\n",
    "    - Media (mu): Valor central, respecto al cual se rodean el resto de valores. El cual es 0.\n",
    "    - Desviación típica (sigma): Desviación de cada valor respecto a la media. Tiene valor de 1.\n",
    "\n",
    "Prácticamente el 75% de los datos caen entre los +1,-1 desviación típica."
   ]
  },
  {
   "cell_type": "markdown",
   "metadata": {},
   "source": [
    "![Title](Seccion_5_numeros_aleatorizados/Normal.png)\n"
   ]
  },
  {
   "cell_type": "markdown",
   "metadata": {},
   "source": [
    "La función que genera número aleatorios que sigan una distribución normal ESTANDAR es:\n",
    "\n",
    "* Libreria de Numpy (función randn(n)):\n",
    "\n",
    "- n; es el número de aleatorios que quiero.\n",
    "\n",
    "Si función randn (a,b): Devuelve un array de numeros. Para obterner diferentes versiones de la normal.\n",
    "- a: Número de serie (colecciones)\n",
    "- b: número de elemontos de cada una de las colecciones.\n",
    "Cada una de ella conforma una campana de Gauss"
   ]
  },
  {
   "cell_type": "code",
   "execution_count": 6,
   "metadata": {},
   "outputs": [
    {
     "data": {
      "text/plain": [
       "array([[ 0.71747442,  0.32139574,  0.36501324,  1.07542905],\n",
       "       [-1.42933969,  1.02320892,  1.31605902,  0.6156676 ]])"
      ]
     },
     "execution_count": 6,
     "metadata": {},
     "output_type": "execute_result"
    }
   ],
   "source": [
    "#Ejemplo de crear varias colecciones con randn\n",
    "data = np.random.randn(2,4)\n",
    "data"
   ]
  },
  {
   "cell_type": "code",
   "execution_count": 7,
   "metadata": {},
   "outputs": [
    {
     "data": {
      "text/plain": [
       "[<matplotlib.lines.Line2D at 0x1084daa50>]"
      ]
     },
     "execution_count": 7,
     "metadata": {},
     "output_type": "execute_result"
    },
    {
     "data": {
      "image/png": "[encoded data removed]",
      "text/plain": [
       "<Figure size 432x288 with 1 Axes>"
      ]
     },
     "metadata": {
      "needs_background": "light"
     },
     "output_type": "display_data"
    }
   ],
   "source": [
    "data = np.random.randn(1000)\n",
    "\n",
    "#Genero un eje x de 1 a 1000, para pintar mis números aleatorios en el eje y\n",
    "\n",
    "x = range(1,1001)\n",
    "plt.pyplot.plot(x, data)"
   ]
  },
  {
   "cell_type": "code",
   "execution_count": 8,
   "metadata": {},
   "outputs": [
    {
     "data": {
      "text/plain": [
       "(array([  6.,  27.,  96., 209., 278., 233., 113.,  28.,   9.,   1.]),\n",
       " array([-3.27586822, -2.56496031, -1.85405239, -1.14314448, -0.43223656,\n",
       "         0.27867135,  0.98957926,  1.70048718,  2.41139509,  3.12230301,\n",
       "         3.83321092]),\n",
       " <a list of 10 Patch objects>)"
      ]
     },
     "execution_count": 8,
     "metadata": {},
     "output_type": "execute_result"
    },
    {
     "data": {
      "image/png": "[encoded data removed]",
      "text/plain": [
       "<Figure size 432x288 with 1 Axes>"
      ]
     },
     "metadata": {
      "needs_background": "light"
     },
     "output_type": "display_data"
    }
   ],
   "source": [
    "%matplotlib inline\n",
    "plt.pyplot.hist(data)"
   ]
  },
  {
   "cell_type": "markdown",
   "metadata": {},
   "source": [
    "#### Función de distribución acumulada\n",
    "\n",
    "Ordenamos los valores de la distribución normal y nos sale esta función. Y de ahí lo que hacemos es crear este gráfico simplemento usando la libreria Matplotlib y ordenando dichos valores con sorted.\n",
    "\n",
    "Donde se ve que el inicio crece poco y luego tiende a crecer de forma más paulatina y al final vuelve a crecer muy poco. Es decir si nos fijamos en el eje X apenas hay valores en los dos extremos de la función a diferencia de la zona intermedia."
   ]
  },
  {
   "cell_type": "code",
   "execution_count": 9,
   "metadata": {},
   "outputs": [
    {
     "data": {
      "text/plain": [
       "[<matplotlib.lines.Line2D at 0x11a36fb50>]"
      ]
     },
     "execution_count": 9,
     "metadata": {},
     "output_type": "execute_result"
    },
    {
     "data": {
      "image/png": "[encoded data removed]",
      "text/plain": [
       "<Figure size 432x288 with 1 Axes>"
      ]
     },
     "metadata": {
      "needs_background": "light"
     },
     "output_type": "display_data"
    }
   ],
   "source": [
    "plt.pyplot.plot(x,sorted(data))"
   ]
  },
  {
   "cell_type": "markdown",
   "metadata": {},
   "source": [
    "### Distribución Normal\n",
    "\n",
    "Ya no es media 0, y desviación 1 sino que le damos distinta \n",
    "        - Media (mu)\n",
    "        - Desviación estandar (sd)"
   ]
  },
  {
   "cell_type": "code",
   "execution_count": 10,
   "metadata": {},
   "outputs": [],
   "source": [
    "mu = 5.5\n",
    "sd = 2.5\n",
    "Z_10000 = np.random.randn(10000) #Distribución normal de 10000 valores"
   ]
  },
  {
   "cell_type": "markdown",
   "metadata": {},
   "source": [
    "Teorema central del límite (Tipificar)\n",
    "\n",
    "Lo que hacemos es tipificar con Z= (X - mu)/sd: La cual seguira la distribución de una normal estandar N(0,1)\n",
    " - Z: Valor tipificado\n",
    " - X: Valor a tipificar\n",
    " - mu: Media poblacional \n",
    " - sd: Desviación estandar poblacional\n",
    " \n",
    " Al despejar X, se queda:\n",
    " X = mu + sd * Z"
   ]
  },
  {
   "cell_type": "code",
   "execution_count": 11,
   "metadata": {},
   "outputs": [
    {
     "data": {
      "text/plain": [
       "(array([   3.,   36.,  279., 1181., 2617., 2970., 1976.,  793.,  127.,\n",
       "          18.]),\n",
       " array([-5.0339103 , -3.03871416, -1.04351802,  0.95167812,  2.94687425,\n",
       "         4.94207039,  6.93726653,  8.93246267, 10.92765881, 12.92285495,\n",
       "        14.91805109]),\n",
       " <a list of 10 Patch objects>)"
      ]
     },
     "execution_count": 11,
     "metadata": {},
     "output_type": "execute_result"
    },
    {
     "data": {
      "image/png": "[encoded data removed]",
      "text/plain": [
       "<Figure size 432x288 with 1 Axes>"
      ]
     },
     "metadata": {
      "needs_background": "light"
     },
     "output_type": "display_data"
    }
   ],
   "source": [
    "#Tipifico los valores Z para normalizar los datos\n",
    "\n",
    "data = mu + sd * Z_10000\n",
    "plt.pyplot.hist(data)"
   ]
  },
  {
   "cell_type": "code",
   "execution_count": null,
   "metadata": {},
   "outputs": [],
   "source": []
  },
  {
   "cell_type": "markdown",
   "metadata": {},
   "source": [
    "# Simulación de Monte Carlo"
   ]
  },
  {
   "cell_type": "markdown",
   "metadata": {},
   "source": [
    "Se llama así porque la base para que funcione bien es un buen generador de números al azar, como los casinos de monte carlo. Lo que queremos es calcular el número π. Considereamos un círculo de radio **r** que tendrá un radio fijo y conocido. Este círculo a su vez esta dentro de un cuadrado. El cuadrado tendra por tanto de lado 2**r** ya que es el doble del radio del círculo. La pregunta es:\n",
    "\n",
    "**¿Cuál es la probabilidad que si elijo un punto cualquiera al azar dentro del cuadrado caiga dentro del circulo?**\n",
    "\n",
    "Entonces una vez caidos dentro del círculo, podemos despejar π para calcularlo.\n",
    "\n",
    "- Área círculo: π * r2\n",
    "- Área cuadrado: base *por* altura: 4*r2\n",
    "\n",
    "Quedando: π/4 al despejar los radios de las fórmulas"
   ]
  },
  {
   "cell_type": "markdown",
   "metadata": {},
   "source": [
    "![Title](Seccion_5_numeros_aleatorizados/monte_carlo.png)"
   ]
  },
  {
   "cell_type": "markdown",
   "metadata": {},
   "source": [
    "## Pasos a realizar:\n",
    "* **A) Generamos dos números aleatorios uniforme (Porque todos deben ser igual de probables si cogieramos distribución normal serían más probables los del centro) x e y entre 0 y 1 en total 1000 veces**. En verdad habría que generar números desde -1 a 1 pero solo calculamos el cuadrante superior del circulo, no todo. \n",
    "* **B) Calcularemos $z = x^2 + y^2$ (Es la fórmula del circulo)**:\n",
    "    * Si $z \\lt; 1 \\rightarrow$ estamos dentro del círculo.\n",
    "    * Si $z \\geq 1 \\rightarrow$ estamos fuera del círculo.\n",
    "* **C) Calculamos el número total de veces que están dentro del círculo y lo dividimos entre el número total de intentos** para obtener una aproximación de la probabilidad de caer dentro del círculo. Es decir \n",
    "        - Casos favorables: Caer dentro del círculo  **(float_value)** \n",
    "        - Casos posibles: Todas las veces que intente el experimento. Equivale con el diámetro del cuadrado porque este ocupa tanto la superficie del círculo (casos favorables) como el resto de la superficie.  **(n)**\n",
    "* **D) Usamos dicha probabilidad para aproximar el valor de π. De la siguiente forma: casos favorables/Todos los casos= π/4** Ya que despejamos π de la ecuación. **(float_value * 4 / n)** Por 4, porque es lo que sale al despejar z de los valores que están dentro del circulo. (z=π/4)\n",
    "* **E) Repetimos el experimento un número suficiente de veces (por ejemplo 100), para obtener (100) diferentes aproximaciones de π.**\n",
    "* **F) Calculamos el promedio de los 100 experimentos anteriores para dar un valor final de π**"
   ]
  },
  {
   "cell_type": "code",
   "execution_count": 12,
   "metadata": {},
   "outputs": [],
   "source": [
    "#Función para el calculo aproximado de π: Recibe 2 parámetros:\n",
    "\n",
    "# n: Números de puntos generados por cada experimento, que estarán dentro o fuera del círculo.\n",
    "# n_exp: Número de veces que repito el experiemto.\n",
    "\n",
    "\n",
    "def pi_montecarlo(n, n_exp):\n",
    "    pi_promedio = 0\n",
    "    pi_value_list = []\n",
    "    for i in range(n_exp):\n",
    "        value = 0 #Para ir sumando los casos favorables\n",
    "        x = np.random.uniform(0,1,n).tolist() #A\n",
    "        y = np.random.uniform(0,1,n).tolist() #A\n",
    "        for j in range(n):\n",
    "            #Al ser x e y listas debo acceder a la posición j de cada lista. Es decir simplemente estamos calculando \n",
    "            #el diámetro del cuadrado. Le hacemos la raiz cuadrada para calcular la distancia al origen, aunque no \n",
    "            #es necesario ya que si un número es más pequeño que 1 su raiz cuadrada será más pequeño y si es más grande\n",
    "            #será más grande. \n",
    "            z = np.sqrt(x[j] * x[j] + y[j] * y[j]) #B\n",
    "            if z<=1: #Significa al ser menor que 1, que el punto ha caido dentro del círculo. Y puede ser un nuevo \n",
    "                #candidato para π.\n",
    "                value += 1\n",
    "        float_value = float(value) #Para poder dividirlo correctamente\n",
    "        pi_value = float_value * 4 / n #C, #D \n",
    "        pi_value_list.append(pi_value) #E\n",
    "        pi_promedio += pi_value\n",
    "\n",
    "    pi = pi_promedio/n_exp #F\n",
    "\n",
    "    print(pi)\n",
    "    fig = plt.pyplot.plot(pi_value_list)\n",
    "    return (pi, fig)\n"
   ]
  },
  {
   "cell_type": "code",
   "execution_count": 13,
   "metadata": {},
   "outputs": [
    {
     "name": "stdout",
     "output_type": "stream",
     "text": [
      "3.1412819999999995\n"
     ]
    },
    {
     "data": {
      "text/plain": [
       "(3.1412819999999995, [<matplotlib.lines.Line2D at 0x11a652090>])"
      ]
     },
     "execution_count": 13,
     "metadata": {},
     "output_type": "execute_result"
    },
    {
     "data": {
      "image/png": "[encoded data removed]",
      "text/plain": [
       "<Figure size 432x288 with 1 Axes>"
      ]
     },
     "metadata": {
      "needs_background": "light"
     },
     "output_type": "display_data"
    }
   ],
   "source": [
    "pi_montecarlo(10000, 200)"
   ]
  },
  {
   "cell_type": "code",
   "execution_count": null,
   "metadata": {},
   "outputs": [],
   "source": []
  },
  {
   "cell_type": "markdown",
   "metadata": {},
   "source": [
    "# Dummy Data Set"
   ]
  },
  {
   "cell_type": "markdown",
   "metadata": {},
   "source": [
    "Se trata de una lista o array de números aleatorios generados a través de varios métodos. Donde cada uno de dichos métodos obtiene un vector columna que pasara a ser la columna del dataframe. Los nombres de la columnas y sus descripciones se pasan como columnas de la generación del dataset en forma de diccionario, siendo las claves y los valores son cada una de las colecciones generadas aleatoriamentes. \n",
    "\n",
    "\n",
    "Para ello usamos la libreria **pandas**"
   ]
  },
  {
   "cell_type": "code",
   "execution_count": 14,
   "metadata": {},
   "outputs": [],
   "source": [
    "n = 1000000\n",
    "data = pd.DataFrame(\n",
    "    {\n",
    "        'A' : np.random.randn(n), #Variable A que se distribuye como una normal estandar mu:0 + sd:1.\n",
    "        'B' : 1.5 + 2.5 * np.random.randn(n), #Variable B que se distribuye como una normal con mu:1,5 + sd:2.5\n",
    "        'C' : np.random.uniform(5, 32, n) #Variable C que sigue la distribución uniforme con limite inf:5 + limi sup:32 con los mismos valores que las otras.\n",
    "    }\n",
    ")"
   ]
  },
  {
   "cell_type": "code",
   "execution_count": 15,
   "metadata": {},
   "outputs": [
    {
     "data": {
      "text/html": [
       "<div>\n",
       "<style scoped>\n",
       "    .dataframe tbody tr th:only-of-type {\n",
       "        vertical-align: middle;\n",
       "    }\n",
       "\n",
       "    .dataframe tbody tr th {\n",
       "        vertical-align: top;\n",
       "    }\n",
       "\n",
       "    .dataframe thead th {\n",
       "        text-align: right;\n",
       "    }\n",
       "</style>\n",
       "<table border=\"1\" class=\"dataframe\">\n",
       "  <thead>\n",
       "    <tr style=\"text-align: right;\">\n",
       "      <th></th>\n",
       "      <th>A</th>\n",
       "      <th>B</th>\n",
       "      <th>C</th>\n",
       "    </tr>\n",
       "  </thead>\n",
       "  <tbody>\n",
       "    <tr>\n",
       "      <th>count</th>\n",
       "      <td>1000000.000000</td>\n",
       "      <td>1000000.000000</td>\n",
       "      <td>1000000.000000</td>\n",
       "    </tr>\n",
       "    <tr>\n",
       "      <th>mean</th>\n",
       "      <td>-0.000125</td>\n",
       "      <td>1.499570</td>\n",
       "      <td>18.497688</td>\n",
       "    </tr>\n",
       "    <tr>\n",
       "      <th>std</th>\n",
       "      <td>1.000279</td>\n",
       "      <td>2.499711</td>\n",
       "      <td>7.795630</td>\n",
       "    </tr>\n",
       "    <tr>\n",
       "      <th>min</th>\n",
       "      <td>-4.478821</td>\n",
       "      <td>-11.112279</td>\n",
       "      <td>5.000035</td>\n",
       "    </tr>\n",
       "    <tr>\n",
       "      <th>25%</th>\n",
       "      <td>-0.675708</td>\n",
       "      <td>-0.186294</td>\n",
       "      <td>11.741707</td>\n",
       "    </tr>\n",
       "    <tr>\n",
       "      <th>50%</th>\n",
       "      <td>-0.000143</td>\n",
       "      <td>1.502810</td>\n",
       "      <td>18.504145</td>\n",
       "    </tr>\n",
       "    <tr>\n",
       "      <th>75%</th>\n",
       "      <td>0.675316</td>\n",
       "      <td>3.188058</td>\n",
       "      <td>25.248765</td>\n",
       "    </tr>\n",
       "    <tr>\n",
       "      <th>max</th>\n",
       "      <td>4.854742</td>\n",
       "      <td>13.987265</td>\n",
       "      <td>31.999963</td>\n",
       "    </tr>\n",
       "  </tbody>\n",
       "</table>\n",
       "</div>"
      ],
      "text/plain": [
       "                    A               B               C\n",
       "count  1000000.000000  1000000.000000  1000000.000000\n",
       "mean        -0.000125        1.499570       18.497688\n",
       "std          1.000279        2.499711        7.795630\n",
       "min         -4.478821      -11.112279        5.000035\n",
       "25%         -0.675708       -0.186294       11.741707\n",
       "50%         -0.000143        1.502810       18.504145\n",
       "75%          0.675316        3.188058       25.248765\n",
       "max          4.854742       13.987265       31.999963"
      ]
     },
     "execution_count": 15,
     "metadata": {},
     "output_type": "execute_result"
    }
   ],
   "source": [
    "data.describe()\n",
    "#Para comprobar que se han creado seguido nuestras caraterísticas."
   ]
  },
  {
   "cell_type": "code",
   "execution_count": 17,
   "metadata": {},
   "outputs": [],
   "source": [
    "data = pd.read_csv(\"Seccion_5_numeros_aleatorizados/Customer Churn Model.csv\")\n",
    "\n",
    "colum_names = data.columns.values.tolist()\n",
    "a=len(colum_names)"
   ]
  },
  {
   "cell_type": "code",
   "execution_count": 18,
   "metadata": {},
   "outputs": [],
   "source": [
    "new_data = pd.DataFrame(\n",
    "    {\n",
    "        'Column Name': colum_names,\n",
    "        'A' : np.random.randn(a),\n",
    "        'B' : np.random.uniform(0,1,a)\n",
    "    }, index = range(42, 42 + a) #Cambiar el índice para que empiece por 42 y le sumamos todas las filas. \n",
    ")"
   ]
  },
  {
   "cell_type": "code",
   "execution_count": 19,
   "metadata": {},
   "outputs": [
    {
     "data": {
      "text/html": [
       "<div>\n",
       "<style scoped>\n",
       "    .dataframe tbody tr th:only-of-type {\n",
       "        vertical-align: middle;\n",
       "    }\n",
       "\n",
       "    .dataframe tbody tr th {\n",
       "        vertical-align: top;\n",
       "    }\n",
       "\n",
       "    .dataframe thead th {\n",
       "        text-align: right;\n",
       "    }\n",
       "</style>\n",
       "<table border=\"1\" class=\"dataframe\">\n",
       "  <thead>\n",
       "    <tr style=\"text-align: right;\">\n",
       "      <th></th>\n",
       "      <th>Column Name</th>\n",
       "      <th>A</th>\n",
       "      <th>B</th>\n",
       "    </tr>\n",
       "  </thead>\n",
       "  <tbody>\n",
       "    <tr>\n",
       "      <th>42</th>\n",
       "      <td>state</td>\n",
       "      <td>-0.478577</td>\n",
       "      <td>0.187433</td>\n",
       "    </tr>\n",
       "    <tr>\n",
       "      <th>43</th>\n",
       "      <td>account length</td>\n",
       "      <td>-0.353480</td>\n",
       "      <td>0.880588</td>\n",
       "    </tr>\n",
       "    <tr>\n",
       "      <th>44</th>\n",
       "      <td>area code</td>\n",
       "      <td>0.206630</td>\n",
       "      <td>0.490330</td>\n",
       "    </tr>\n",
       "    <tr>\n",
       "      <th>45</th>\n",
       "      <td>phone number</td>\n",
       "      <td>0.006900</td>\n",
       "      <td>0.886492</td>\n",
       "    </tr>\n",
       "    <tr>\n",
       "      <th>46</th>\n",
       "      <td>international plan</td>\n",
       "      <td>-1.899214</td>\n",
       "      <td>0.940523</td>\n",
       "    </tr>\n",
       "  </tbody>\n",
       "</table>\n",
       "</div>"
      ],
      "text/plain": [
       "           Column Name         A         B\n",
       "42               state -0.478577  0.187433\n",
       "43      account length -0.353480  0.880588\n",
       "44           area code  0.206630  0.490330\n",
       "45        phone number  0.006900  0.886492\n",
       "46  international plan -1.899214  0.940523"
      ]
     },
     "execution_count": 19,
     "metadata": {},
     "output_type": "execute_result"
    }
   ],
   "source": [
    "new_data.head()"
   ]
  },
  {
   "cell_type": "code",
   "execution_count": null,
   "metadata": {},
   "outputs": [],
   "source": []
  },
  {
   "cell_type": "code",
   "execution_count": null,
   "metadata": {},
   "outputs": [],
   "source": []
  },
  {
   "cell_type": "code",
   "execution_count": null,
   "metadata": {},
   "outputs": [],
   "source": []
  }
 ],
 "metadata": {
  "kernelspec": {
   "display_name": "Python 3",
   "language": "python",
   "name": "python3"
  },
  "language_info": {
   "codemirror_mode": {
    "name": "ipython",
    "version": 3
   },
   "file_extension": ".py",
   "mimetype": "text/x-python",
   "name": "python",
   "nbconvert_exporter": "python",
   "pygments_lexer": "ipython3",
   "version": "3.7.4"
  }
 },
 "nbformat": 4,
 "nbformat_minor": 2
}
